{
 "cells": [
  {
   "cell_type": "markdown",
   "metadata": {},
   "source": [
    "# This notebook is for reading in data corrected using CellBender and then adding in the unspliced data. There is no filtering/QC/etc involved in this process"
   ]
  },
  {
   "cell_type": "markdown",
   "metadata": {},
   "source": [
    "## Open this Jupyter notebook with cellbender environment (python = 3.7) so that there's no issues using the `anndata_from_h5` package"
   ]
  },
  {
   "cell_type": "code",
   "execution_count": 2,
   "metadata": {},
   "outputs": [
    {
     "name": "stderr",
     "output_type": "stream",
     "text": [
      "/home/johnathan/miniconda3/envs/rapids_sc/lib/python3.10/site-packages/scvi/_settings.py:63: UserWarning: Since v1.0.0, scvi-tools no longer uses a random seed by default. Run `scvi.settings.seed = 0` to reproduce results from previous versions.\n",
      "  self.seed = seed\n",
      "/home/johnathan/miniconda3/envs/rapids_sc/lib/python3.10/site-packages/scvi/_settings.py:70: UserWarning: Setting `dl_pin_memory_gpu_training` is deprecated in v1.0 and will be removed in v1.1. Please pass in `pin_memory` to the data loaders instead.\n",
      "  self.dl_pin_memory_gpu_training = (\n",
      "/home/johnathan/miniconda3/envs/rapids_sc/lib/python3.10/site-packages/tqdm/auto.py:21: TqdmWarning: IProgress not found. Please update jupyter and ipywidgets. See https://ipywidgets.readthedocs.io/en/stable/user_install.html\n",
      "  from .autonotebook import tqdm as notebook_tqdm\n"
     ]
    }
   ],
   "source": [
    "import pandas as pd\n",
    "import numpy as np\n",
    "import scanpy as sc\n",
    "import anndata as ad\n",
    "import matplotlib.pyplot as plt\n",
    "import seaborn as sns\n",
    "import os"
   ]
  },
  {
   "cell_type": "code",
   "execution_count": 3,
   "metadata": {},
   "outputs": [
    {
     "name": "stdout",
     "output_type": "stream",
     "text": [
      "scanpy==1.10.1 anndata==0.10.7 umap==0.5.5 numpy==1.26.4 scipy==1.12.0 pandas==2.2.2 scikit-learn==1.5.0 statsmodels==0.14.2 igraph==0.11.5 louvain==0.8.2 pynndescent==0.5.12\n"
     ]
    }
   ],
   "source": [
    "sc.settings.verbosity = 3  # verbosity: errors (0), warnings (1), info (2), hints (3)\n",
    "sc.logging.print_header()\n",
    "sc.settings.set_figure_params(dpi=80, facecolor=\"white\")"
   ]
  },
  {
   "cell_type": "code",
   "execution_count": 4,
   "metadata": {},
   "outputs": [],
   "source": [
    "import logging\n",
    "#reduce logging amount\n",
    "# Configure logging\n",
    "logging.basicConfig(level=logging.WARNING)"
   ]
  },
  {
   "cell_type": "code",
   "execution_count": 4,
   "metadata": {},
   "outputs": [],
   "source": [
    "input_dir = \"/home/johnathan/projects/arrenkiel_scrnaseq/align_count/output/cellbender/corrected_mtx/\""
   ]
  },
  {
   "cell_type": "code",
   "execution_count": 5,
   "metadata": {},
   "outputs": [],
   "source": [
    "samples = ['screen-1', 'screen-2', 'screen-3', 'screen-4']"
   ]
  },
  {
   "cell_type": "code",
   "execution_count": 6,
   "metadata": {},
   "outputs": [],
   "source": [
    "adata_list = []"
   ]
  },
  {
   "cell_type": "code",
   "execution_count": 9,
   "metadata": {},
   "outputs": [
    {
     "data": {
      "text/plain": [
       "['screen-2', 'screen-3', 'screen-4', 'screen-1']"
      ]
     },
     "execution_count": 9,
     "metadata": {},
     "output_type": "execute_result"
    }
   ],
   "source": [
    "import os\n",
    "os.listdir(input_dir)"
   ]
  },
  {
   "cell_type": "code",
   "execution_count": 10,
   "metadata": {},
   "outputs": [
    {
     "data": {
      "text/plain": [
       "[['output_metrics.csv',\n",
       "  'output_cell_barcodes.csv',\n",
       "  'output.h5',\n",
       "  'output_filtered.h5',\n",
       "  'output.pdf',\n",
       "  'output.log',\n",
       "  'output._posterior.h5'],\n",
       " ['output_metrics.csv',\n",
       "  'output_cell_barcodes.csv',\n",
       "  'output.h5',\n",
       "  'output_filtered.h5',\n",
       "  'output.pdf',\n",
       "  'output.log',\n",
       "  'output._posterior.h5'],\n",
       " ['output_metrics.csv',\n",
       "  'output_cell_barcodes.csv',\n",
       "  'output.h5',\n",
       "  'output_filtered.h5',\n",
       "  'output.pdf',\n",
       "  'output.log',\n",
       "  'output._posterior.h5'],\n",
       " ['output_metrics.csv',\n",
       "  'output_cell_barcodes.csv',\n",
       "  'output.h5',\n",
       "  'output_filtered.h5',\n",
       "  'output.pdf',\n",
       "  'output.log',\n",
       "  'output._posterior.h5']]"
      ]
     },
     "execution_count": 10,
     "metadata": {},
     "output_type": "execute_result"
    }
   ],
   "source": [
    "[os.listdir(input_dir+sample+'/spliced') for sample in samples]"
   ]
  },
  {
   "cell_type": "code",
   "execution_count": 11,
   "metadata": {},
   "outputs": [
    {
     "data": {
      "text/plain": [
       "[['unspliced.mtx', 'features.tsv', 'barcodes.tsv'],\n",
       " ['unspliced.mtx', 'features.tsv', 'barcodes.tsv'],\n",
       " ['unspliced.mtx', 'features.tsv', 'barcodes.tsv'],\n",
       " ['unspliced.mtx', 'features.tsv', 'barcodes.tsv']]"
      ]
     },
     "execution_count": 11,
     "metadata": {},
     "output_type": "execute_result"
    }
   ],
   "source": [
    "[os.listdir(input_dir+sample+'/unspliced') for sample in samples]"
   ]
  },
  {
   "cell_type": "code",
   "execution_count": 15,
   "metadata": {},
   "outputs": [],
   "source": [
    "adata = anndata_from_h5(os.path.join(input_dir, 'screen-1', 'spliced','output.h5'))"
   ]
  },
  {
   "cell_type": "code",
   "execution_count": 17,
   "metadata": {},
   "outputs": [
    {
     "name": "stdout",
     "output_type": "stream",
     "text": [
      "Assuming we are loading a \"filtered\" file that contains only cells.\n"
     ]
    }
   ],
   "source": [
    "adata_filtered = anndata_from_h5(os.path.join(input_dir, 'screen-1', 'spliced','output_filtered.h5'))"
   ]
  },
  {
   "cell_type": "code",
   "execution_count": 22,
   "metadata": {},
   "outputs": [
    {
     "data": {
      "text/plain": [
       "<seaborn.axisgrid.FacetGrid at 0x7f4140272210>"
      ]
     },
     "execution_count": 22,
     "metadata": {},
     "output_type": "execute_result"
    },
    {
     "data": {
      "image/png": "[encoded data removed]",
      "text/plain": [
       "<Figure size 500x500 with 1 Axes>"
      ]
     },
     "metadata": {},
     "output_type": "display_data"
    }
   ],
   "source": [
    "import seaborn as sns\n",
    "sns.displot(adata.obs['cell_probability'])"
   ]
  },
  {
   "cell_type": "code",
   "execution_count": 24,
   "metadata": {},
   "outputs": [
    {
     "data": {
      "text/plain": [
       "View of AnnData object with n_obs × n_vars = 16041 × 57184\n",
       "    obs: 'background_fraction', 'cell_probability', 'cell_size', 'droplet_efficiency'\n",
       "    var: 'ambient_expression', 'feature_type', 'genome', 'gene_id', 'cellbender_analyzed'\n",
       "    uns: 'cell_size_lognormal_std', 'empty_droplet_size_lognormal_loc', 'empty_droplet_size_lognormal_scale', 'swapping_fraction_dist_params', 'estimator', 'features_analyzed_inds', 'fraction_data_used_for_testing', 'learning_curve_learning_rate_epoch', 'learning_curve_learning_rate_value', 'learning_curve_test_elbo', 'learning_curve_test_epoch', 'learning_curve_train_elbo', 'learning_curve_train_epoch', 'target_false_positive_rate'\n",
       "    obsm: 'gene_expression_encoding'"
      ]
     },
     "execution_count": 24,
     "metadata": {},
     "output_type": "execute_result"
    }
   ],
   "source": [
    "adata[adata.obs['cell_probability']>0.5]"
   ]
  },
  {
   "cell_type": "code",
   "execution_count": 18,
   "metadata": {},
   "outputs": [
    {
     "data": {
      "text/plain": [
       "AnnData object with n_obs × n_vars = 16041 × 57184\n",
       "    obs: 'background_fraction', 'cell_probability', 'cell_size', 'droplet_efficiency'\n",
       "    var: 'ambient_expression', 'feature_type', 'genome', 'gene_id', 'cellbender_analyzed'\n",
       "    uns: 'barcode_indices_for_latents', 'cell_size_lognormal_std', 'empty_droplet_size_lognormal_loc', 'empty_droplet_size_lognormal_scale', 'swapping_fraction_dist_params', 'barcodes_analyzed', 'barcodes_analyzed_inds', 'estimator', 'features_analyzed_inds', 'fraction_data_used_for_testing', 'learning_curve_learning_rate_epoch', 'learning_curve_learning_rate_value', 'learning_curve_test_elbo', 'learning_curve_test_epoch', 'learning_curve_train_elbo', 'learning_curve_train_epoch', 'target_false_positive_rate'\n",
       "    obsm: 'gene_expression_encoding'"
      ]
     },
     "execution_count": 18,
     "metadata": {},
     "output_type": "execute_result"
    }
   ],
   "source": [
    "adata_filtered"
   ]
  },
  {
   "cell_type": "code",
   "execution_count": 27,
   "metadata": {},
   "outputs": [
    {
     "name": "stdout",
     "output_type": "stream",
     "text": [
      "Assuming we are loading a \"filtered\" file that contains only cells.\n",
      "Assuming we are loading a \"filtered\" file that contains only cells.\n",
      "Assuming we are loading a \"filtered\" file that contains only cells.\n",
      "Assuming we are loading a \"filtered\" file that contains only cells.\n"
     ]
    },
    {
     "data": {
      "text/plain": [
       "[AnnData object with n_obs × n_vars = 16041 × 57184\n",
       "     obs: 'background_fraction', 'cell_probability', 'cell_size', 'droplet_efficiency'\n",
       "     var: 'ambient_expression', 'feature_type', 'genome', 'gene_id', 'cellbender_analyzed'\n",
       "     uns: 'barcode_indices_for_latents', 'cell_size_lognormal_std', 'empty_droplet_size_lognormal_loc', 'empty_droplet_size_lognormal_scale', 'swapping_fraction_dist_params', 'barcodes_analyzed', 'barcodes_analyzed_inds', 'estimator', 'features_analyzed_inds', 'fraction_data_used_for_testing', 'learning_curve_learning_rate_epoch', 'learning_curve_learning_rate_value', 'learning_curve_test_elbo', 'learning_curve_test_epoch', 'learning_curve_train_elbo', 'learning_curve_train_epoch', 'target_false_positive_rate'\n",
       "     obsm: 'gene_expression_encoding'\n",
       "     layers: 'unspliced',\n",
       " AnnData object with n_obs × n_vars = 21092 × 57184\n",
       "     obs: 'background_fraction', 'cell_probability', 'cell_size', 'droplet_efficiency'\n",
       "     var: 'ambient_expression', 'feature_type', 'genome', 'gene_id', 'cellbender_analyzed'\n",
       "     uns: 'barcode_indices_for_latents', 'cell_size_lognormal_std', 'empty_droplet_size_lognormal_loc', 'empty_droplet_size_lognormal_scale', 'swapping_fraction_dist_params', 'barcodes_analyzed', 'barcodes_analyzed_inds', 'estimator', 'features_analyzed_inds', 'fraction_data_used_for_testing', 'learning_curve_learning_rate_epoch', 'learning_curve_learning_rate_value', 'learning_curve_test_elbo', 'learning_curve_test_epoch', 'learning_curve_train_elbo', 'learning_curve_train_epoch', 'target_false_positive_rate'\n",
       "     obsm: 'gene_expression_encoding'\n",
       "     layers: 'unspliced',\n",
       " AnnData object with n_obs × n_vars = 17348 × 57184\n",
       "     obs: 'background_fraction', 'cell_probability', 'cell_size', 'droplet_efficiency'\n",
       "     var: 'ambient_expression', 'feature_type', 'genome', 'gene_id', 'cellbender_analyzed'\n",
       "     uns: 'barcode_indices_for_latents', 'cell_size_lognormal_std', 'empty_droplet_size_lognormal_loc', 'empty_droplet_size_lognormal_scale', 'swapping_fraction_dist_params', 'barcodes_analyzed', 'barcodes_analyzed_inds', 'estimator', 'features_analyzed_inds', 'fraction_data_used_for_testing', 'learning_curve_learning_rate_epoch', 'learning_curve_learning_rate_value', 'learning_curve_test_elbo', 'learning_curve_test_epoch', 'learning_curve_train_elbo', 'learning_curve_train_epoch', 'target_false_positive_rate'\n",
       "     obsm: 'gene_expression_encoding'\n",
       "     layers: 'unspliced',\n",
       " AnnData object with n_obs × n_vars = 15098 × 57184\n",
       "     obs: 'background_fraction', 'cell_probability', 'cell_size', 'droplet_efficiency'\n",
       "     var: 'ambient_expression', 'feature_type', 'genome', 'gene_id', 'cellbender_analyzed'\n",
       "     uns: 'barcode_indices_for_latents', 'cell_size_lognormal_std', 'empty_droplet_size_lognormal_loc', 'empty_droplet_size_lognormal_scale', 'swapping_fraction_dist_params', 'barcodes_analyzed', 'barcodes_analyzed_inds', 'estimator', 'features_analyzed_inds', 'fraction_data_used_for_testing', 'learning_curve_learning_rate_epoch', 'learning_curve_learning_rate_value', 'learning_curve_test_elbo', 'learning_curve_test_epoch', 'learning_curve_train_elbo', 'learning_curve_train_epoch', 'target_false_positive_rate'\n",
       "     obsm: 'gene_expression_encoding'\n",
       "     layers: 'unspliced']"
      ]
     },
     "execution_count": 27,
     "metadata": {},
     "output_type": "execute_result"
    }
   ],
   "source": [
    "import pandas as pd\n",
    "import numpy as np\n",
    "from cellbender.remove_background.downstream import anndata_from_h5\n",
    "\n",
    "def process_screen(screen_path):\n",
    "    # Paths to files\n",
    "    spliced_path = os.path.join(screen_path, 'spliced')\n",
    "    unspliced_path = os.path.join(screen_path, 'unspliced')\n",
    "    \n",
    "    spliced_h5_file = os.path.join(spliced_path, 'output_filtered.h5')\n",
    "    features_file = os.path.join(unspliced_path, 'features.tsv')\n",
    "    barcodes_file = os.path.join(unspliced_path, 'barcodes.tsv')\n",
    "    unspliced_mtx_file = os.path.join(unspliced_path, 'unspliced.mtx')\n",
    "    \n",
    "    # Read spliced matrix\n",
    "    adata = anndata_from_h5(spliced_h5_file)\n",
    "    \n",
    "    # Set var_names and obs_names\n",
    "    features = pd.read_csv(features_file, header=None, sep='\\t')\n",
    "    barcodes = pd.read_csv(barcodes_file, header=None)\n",
    "    #adata.var_names = features[0] # already set for h5 object\n",
    "    #adata.obs_names = barcodes[0] # already set for h5 object\n",
    "    \n",
    "    # Read unspliced matrix\n",
    "    unspliced = sc.read_mtx(unspliced_mtx_file).T\n",
    "    \n",
    "    # Set var_names and obs_names for unspliced matrix\n",
    "    unspliced_adata = sc.AnnData(X=unspliced)\n",
    "    unspliced_adata.var_names = features[1].values\n",
    "    unspliced_adata.obs_names = barcodes[0].values\n",
    "    \n",
    "    # Subset unspliced matrix to match spliced matrix obs_names\n",
    "    unspliced_adata = unspliced_adata[adata.obs_names, :]\n",
    "    \n",
    "    # Add unspliced as a layer\n",
    "    adata.layers['unspliced'] = unspliced_adata.X\n",
    "    \n",
    "    return adata\n",
    "\n",
    "# Process all screens\n",
    "screens = [f'screen-{i}' for i in range(1, 5)]\n",
    "adata_list = [process_screen(os.path.join(input_dir, screen)) for screen in screens]\n",
    "adata_list"
   ]
  },
  {
   "cell_type": "code",
   "execution_count": 29,
   "metadata": {},
   "outputs": [],
   "source": [
    "for i,adata in enumerate(adata_list):\n",
    "    adata.layers['spliced'] = adata.X.copy()\n",
    "    adata.obs['batch'] = screens[i]\n",
    "    adata_list[i] = adata"
   ]
  },
  {
   "cell_type": "code",
   "execution_count": 30,
   "metadata": {},
   "outputs": [
    {
     "data": {
      "text/plain": [
       "[AnnData object with n_obs × n_vars = 16041 × 57184\n",
       "     obs: 'background_fraction', 'cell_probability', 'cell_size', 'droplet_efficiency', 'batch'\n",
       "     var: 'ambient_expression', 'feature_type', 'genome', 'gene_id', 'cellbender_analyzed'\n",
       "     uns: 'barcode_indices_for_latents', 'cell_size_lognormal_std', 'empty_droplet_size_lognormal_loc', 'empty_droplet_size_lognormal_scale', 'swapping_fraction_dist_params', 'barcodes_analyzed', 'barcodes_analyzed_inds', 'estimator', 'features_analyzed_inds', 'fraction_data_used_for_testing', 'learning_curve_learning_rate_epoch', 'learning_curve_learning_rate_value', 'learning_curve_test_elbo', 'learning_curve_test_epoch', 'learning_curve_train_elbo', 'learning_curve_train_epoch', 'target_false_positive_rate'\n",
       "     obsm: 'gene_expression_encoding'\n",
       "     layers: 'unspliced', 'spliced',\n",
       " AnnData object with n_obs × n_vars = 21092 × 57184\n",
       "     obs: 'background_fraction', 'cell_probability', 'cell_size', 'droplet_efficiency', 'batch'\n",
       "     var: 'ambient_expression', 'feature_type', 'genome', 'gene_id', 'cellbender_analyzed'\n",
       "     uns: 'barcode_indices_for_latents', 'cell_size_lognormal_std', 'empty_droplet_size_lognormal_loc', 'empty_droplet_size_lognormal_scale', 'swapping_fraction_dist_params', 'barcodes_analyzed', 'barcodes_analyzed_inds', 'estimator', 'features_analyzed_inds', 'fraction_data_used_for_testing', 'learning_curve_learning_rate_epoch', 'learning_curve_learning_rate_value', 'learning_curve_test_elbo', 'learning_curve_test_epoch', 'learning_curve_train_elbo', 'learning_curve_train_epoch', 'target_false_positive_rate'\n",
       "     obsm: 'gene_expression_encoding'\n",
       "     layers: 'unspliced', 'spliced',\n",
       " AnnData object with n_obs × n_vars = 17348 × 57184\n",
       "     obs: 'background_fraction', 'cell_probability', 'cell_size', 'droplet_efficiency', 'batch'\n",
       "     var: 'ambient_expression', 'feature_type', 'genome', 'gene_id', 'cellbender_analyzed'\n",
       "     uns: 'barcode_indices_for_latents', 'cell_size_lognormal_std', 'empty_droplet_size_lognormal_loc', 'empty_droplet_size_lognormal_scale', 'swapping_fraction_dist_params', 'barcodes_analyzed', 'barcodes_analyzed_inds', 'estimator', 'features_analyzed_inds', 'fraction_data_used_for_testing', 'learning_curve_learning_rate_epoch', 'learning_curve_learning_rate_value', 'learning_curve_test_elbo', 'learning_curve_test_epoch', 'learning_curve_train_elbo', 'learning_curve_train_epoch', 'target_false_positive_rate'\n",
       "     obsm: 'gene_expression_encoding'\n",
       "     layers: 'unspliced', 'spliced',\n",
       " AnnData object with n_obs × n_vars = 15098 × 57184\n",
       "     obs: 'background_fraction', 'cell_probability', 'cell_size', 'droplet_efficiency', 'batch'\n",
       "     var: 'ambient_expression', 'feature_type', 'genome', 'gene_id', 'cellbender_analyzed'\n",
       "     uns: 'barcode_indices_for_latents', 'cell_size_lognormal_std', 'empty_droplet_size_lognormal_loc', 'empty_droplet_size_lognormal_scale', 'swapping_fraction_dist_params', 'barcodes_analyzed', 'barcodes_analyzed_inds', 'estimator', 'features_analyzed_inds', 'fraction_data_used_for_testing', 'learning_curve_learning_rate_epoch', 'learning_curve_learning_rate_value', 'learning_curve_test_elbo', 'learning_curve_test_epoch', 'learning_curve_train_elbo', 'learning_curve_train_epoch', 'target_false_positive_rate'\n",
       "     obsm: 'gene_expression_encoding'\n",
       "     layers: 'unspliced', 'spliced']"
      ]
     },
     "execution_count": 30,
     "metadata": {},
     "output_type": "execute_result"
    }
   ],
   "source": [
    "adata_list"
   ]
  },
  {
   "cell_type": "code",
   "execution_count": 32,
   "metadata": {},
   "outputs": [],
   "source": [
    "output_dir = '/home/johnathan/projects/arrenkiel_scrnaseq/align_count/output/cellbender/combined_adata'\n",
    "for i,adata in enumerate(adata_list):\n",
    "    adata.write(os.path.join(output_dir, screens[i]+'_combined.h5ad'))"
   ]
  }
 ],
 "metadata": {
  "kernelspec": {
   "display_name": "rapids_sc",
   "language": "python",
   "name": "python3"
  },
  "language_info": {
   "codemirror_mode": {
    "name": "ipython",
    "version": 3
   },
   "file_extension": ".py",
   "mimetype": "text/x-python",
   "name": "python",
   "nbconvert_exporter": "python",
   "pygments_lexer": "ipython3",
   "version": "3.1.-1"
  }
 },
 "nbformat": 4,
 "nbformat_minor": 2
}
